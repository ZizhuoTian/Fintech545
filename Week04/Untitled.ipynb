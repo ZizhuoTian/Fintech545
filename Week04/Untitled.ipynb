{
 "cells": [
  {
   "cell_type": "code",
   "execution_count": 4,
   "id": "b45d9d94",
   "metadata": {},
   "outputs": [],
   "source": [
    "import pandas as pd\n",
    "import numpy as np\n",
    "from scipy.stats import norm\n",
    "\n",
    "# Load the daily prices and portfolio holdings data\n",
    "prices_df = pd.read_csv('DailyPrices.csv')\n",
    "holdings_df = pd.read_csv('Portfolio.csv')\n",
    "prices_df.set_index('Date', inplace=True)\n",
    "prices_df = prices_df.pct_change().dropna()"
   ]
  },
  {
   "cell_type": "code",
   "execution_count": 276,
   "id": "ec93f0c1",
   "metadata": {},
   "outputs": [],
   "source": [
    "# Create an empty dictionary to store the portfolio dataframes\n",
    "portfolios = {}\n",
    "\n",
    "# Loop over each portfolio\n",
    "for portfolio in holdings_df['Portfolio'].unique():\n",
    "    # Subset the holdings data for the current portfolio\n",
    "    stocks = holdings_df[holdings_df['Portfolio'] == portfolio]['Stock']\n",
    "    holdings_subset = holdings_df[holdings_df['Portfolio'] == portfolio]\n",
    "    holdings_subset.set_index('Stock',inplace = True)\n",
    "    holdings_subset = holdings_subset.T\n",
    "    portfolio_ = pd.DataFrame()\n",
    "    # Calculate the portfolio value for each day and store it\n",
    "    for i in holdings_subset.columns:\n",
    "        if i in prices_df.columns:\n",
    "            portfolio_[i] = prices_df[i] * holdings_df[holdings_df['Stock'] == i]['Holding'].values \n",
    "    portfolio_returns = portfolio_.sum(axis=1)\n",
    "    portfolios[portfolio] = portfolio_returns"
   ]
  },
  {
   "cell_type": "code",
   "execution_count": 277,
   "id": "f5906ca1",
   "metadata": {},
   "outputs": [],
   "source": [
    "# Combine the portfolio dataframes into a single dataframe\n",
    "total_df = pd.concat(portfolios.values(), axis=1, keys=portfolios.keys())\n",
    "# Calculate the portfolio returns\n",
    "returns = total_df.pct_change().dropna()\n",
    "# Calculate the exponentially weighted covariance matrix\n",
    "lambda_094 = 0.94\n",
    "cov_ewm = returns.ewm(alpha=lambda_094, adjust=False).cov()\n",
    "cov_ewm = cov_ewm.dropna()\n",
    "cov_ewm\n",
    "\n",
    "alpha = 0.01\n",
    "cov_ewm = cov_ewm.reset_index()\n",
    "A = np.sqrt(np.dot(portfolios['A'][2:], np.dot(cov_ewm[cov_ewm['level_1'] == 'A']['A'], portfolios['A'][2:])))*1.645\n",
    "B = np.percentile(A, 100 * alpha)"
   ]
  },
  {
   "cell_type": "code",
   "execution_count": null,
   "id": "38dbc4d0",
   "metadata": {},
   "outputs": [],
   "source": []
  },
  {
   "cell_type": "code",
   "execution_count": 5,
   "id": "3994ee4c",
   "metadata": {},
   "outputs": [
    {
     "name": "stdout",
     "output_type": "stream",
     "text": [
      "Portfolio A VaR: $1,519.52\n",
      "Portfolio B VaR: $2,292.02\n",
      "Portfolio C VaR: $-2,660.62\n",
      "Total VaR: $1,150.91\n"
     ]
    }
   ],
   "source": [
    "# Create an empty dictionary to store the portfolio dataframes\n",
    "VaR = {}\n",
    "total_var = 0\n",
    "# Loop over each portfolio\n",
    "for portfolio in holdings_df['Portfolio'].unique():\n",
    "    # Subset the holdings data for the current portfolio\n",
    "    stocks = holdings_df[holdings_df['Portfolio'] == portfolio]['Stock']\n",
    "    holdings_subset = holdings_df[holdings_df['Portfolio'] == portfolio]\n",
    "    holdings_subset.set_index('Stock',inplace = True)\n",
    "    holdings_subset = holdings_subset.T\n",
    "    portfolio_ = pd.DataFrame()\n",
    "    # Calculate the portfolio value for each day and store it\n",
    "    for i in holdings_subset.columns:\n",
    "        if i in prices_df.columns:\n",
    "            portfolio_[i] = prices_df[i] * holdings_df[holdings_df['Stock'] == i]['Holding'].values\n",
    "    \n",
    "    total_value = portfolio_.sum(axis=1)\n",
    "    weights_df = portfolio_.div(total_value, axis=0)\n",
    "    cov_ewm = portfolio_.ewm(alpha=0.94, adjust=False).cov().dropna()\n",
    "    # Calculate the portfolio variance as the weighted average of the diagonal elements of the covariance matrix\n",
    "    portfolio_var = ((cov_ewm.mul(weights_df, axis=0).sum(axis=1) * weights_df.sum(axis=1)).sum())\n",
    "\n",
    "    # Calculate the portfolio volatility as the square root of the portfolio variance\n",
    "    portfolio_vol = np.sqrt(portfolio_var)/ np.sqrt(252)\n",
    "\n",
    "    # Calculate the portfolio VaR\n",
    "    portfolio_var = (-(weights_df.T.dot(total_value) * portfolio_vol * norm.ppf(0.01))).sum()\n",
    "    VaR[portfolio] = portfolio_var\n",
    "    print(f\"Portfolio {portfolio} VaR: ${portfolio_var:,.2f}\")\n",
    "\n",
    "for i in VaR.values():\n",
    "    total_var = total_var + i\n",
    "print(f\"Total VaR: ${total_var:,.2f}\")\n"
   ]
  },
  {
   "cell_type": "code",
   "execution_count": 647,
   "id": "0aa4cd04",
   "metadata": {},
   "outputs": [],
   "source": [
    "total_var = 0\n",
    "for i in VaR.values():\n",
    "    total_var = total_var + i"
   ]
  },
  {
   "cell_type": "code",
   "execution_count": 648,
   "id": "29f24d36",
   "metadata": {},
   "outputs": [
    {
     "data": {
      "text/plain": [
       "1150.9148478392399"
      ]
     },
     "execution_count": 648,
     "metadata": {},
     "output_type": "execute_result"
    }
   ],
   "source": [
    "total_var"
   ]
  },
  {
   "cell_type": "code",
   "execution_count": null,
   "id": "c8bead8d",
   "metadata": {},
   "outputs": [],
   "source": []
  }
 ],
 "metadata": {
  "kernelspec": {
   "display_name": "Python 3 (ipykernel)",
   "language": "python",
   "name": "python3"
  },
  "language_info": {
   "codemirror_mode": {
    "name": "ipython",
    "version": 3
   },
   "file_extension": ".py",
   "mimetype": "text/x-python",
   "name": "python",
   "nbconvert_exporter": "python",
   "pygments_lexer": "ipython3",
   "version": "3.9.7"
  }
 },
 "nbformat": 4,
 "nbformat_minor": 5
}
