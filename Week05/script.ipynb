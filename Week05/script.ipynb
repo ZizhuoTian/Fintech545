{
 "cells": [
  {
   "cell_type": "markdown",
   "id": "835132de",
   "metadata": {},
   "source": [
    "# Problem 1"
   ]
  },
  {
   "cell_type": "code",
   "execution_count": 1,
   "id": "97e269dd",
   "metadata": {},
   "outputs": [],
   "source": [
    "import numpy as np\n",
    "import pandas as pd\n",
    "import matplotlib.pyplot as plt\n",
    "from scipy.stats import norm, genpareto"
   ]
  },
  {
   "cell_type": "code",
   "execution_count": 2,
   "id": "224e71b4",
   "metadata": {},
   "outputs": [
    {
     "data": {
      "image/png": "[encoded data removed]",
      "text/plain": [
       "<Figure size 432x288 with 1 Axes>"
      ]
     },
     "metadata": {
      "needs_background": "light"
     },
     "output_type": "display_data"
    },
    {
     "name": "stdout",
     "output_type": "stream",
     "text": [
      "Normal Distribution:\n",
      "  Mean: -0.00\n",
      "  Std Dev: 0.05\n",
      "  VaR(0.05): -0.08\n",
      "  ES(0.05): 44.43\n",
      "Generalized T Distribution:\n",
      "  Shape: -0.74\n",
      "  Location: -0.21\n",
      "  Scale: 0.31\n",
      "  VaR(0.05): -0.19\n",
      "  ES(0.05): 67.17\n"
     ]
    },
    {
     "data": {
      "image/png": "[encoded data removed]",
      "text/plain": [
       "<Figure size 432x288 with 1 Axes>"
      ]
     },
     "metadata": {
      "needs_background": "light"
     },
     "output_type": "display_data"
    }
   ],
   "source": [
    "# Load data from CSV file\n",
    "data = pd.read_csv(\"problem1.csv\")\n",
    "\n",
    "# Plot histogram\n",
    "plt.hist(data[\"x\"], bins=30)\n",
    "plt.title(\"Histogram of Data\")\n",
    "plt.show()\n",
    "\n",
    "# Fit normal distribution to data\n",
    "mu, std = norm.fit(data[\"x\"])\n",
    "print(\"Normal Distribution:\")\n",
    "print(\"  Mean: {:.2f}\".format(mu))\n",
    "print(\"  Std Dev: {:.2f}\".format(std))\n",
    "\n",
    "# Calculate VaR and ES for normal distribution\n",
    "VaR_normal = norm.ppf(0.05, mu, std)\n",
    "ES_normal = (1/0.05) * norm.pdf(norm.ppf(0.05, mu, std), mu, std) / (1 - 0.05)\n",
    "print(\"  VaR(0.05): {:.2f}\".format(VaR_normal))\n",
    "print(\"  ES(0.05): {:.2f}\".format(ES_normal))\n",
    "\n",
    "# Fit generalized t distribution to data\n",
    "params = genpareto.fit(data[\"x\"])\n",
    "print(\"Generalized T Distribution:\")\n",
    "print(\"  Shape: {:.2f}\".format(params[0]))\n",
    "print(\"  Location: {:.2f}\".format(params[1]))\n",
    "print(\"  Scale: {:.2f}\".format(params[2]))\n",
    "\n",
    "# Calculate VaR and ES for generalized t distribution\n",
    "VaR_t = genpareto.ppf(0.05, *params)\n",
    "ES_t = (1/0.05) * genpareto.pdf(genpareto.ppf(0.05, *params), *params) / (1 - 0.05)\n",
    "print(\"  VaR(0.05): {:.2f}\".format(VaR_t))\n",
    "print(\"  ES(0.05): {:.2f}\".format(ES_t))\n",
    "\n",
    "# Plot PDFs and VaR/ES values\n",
    "x = np.linspace(data[\"x\"].min(), data[\"x\"].max(), 100)\n",
    "pdf_normal = norm.pdf(x, mu, std)\n",
    "pdf_t = genpareto.pdf(x, *params)\n",
    "\n",
    "plt.plot(x, pdf_normal, label=\"Normal\")\n",
    "plt.axvline(VaR_normal, color='b', linestyle='--', label=\"VaR Normal\")\n",
    "plt.axvline(ES_normal, color='r', linestyle='--', label=\"ES Normal\")\n",
    "\n",
    "plt.plot(x, pdf_t, label=\"Generalized T\")\n",
    "plt.axvline(VaR_t, color='g', linestyle='--', label=\"VaR T\")\n",
    "plt.axvline(ES_t, color='m', linestyle='--', label=\"ES T\")\n",
    "\n",
    "plt.legend()\n",
    "plt.title(\"PDFs and VaR/ES Values\")\n",
    "plt.show()\n"
   ]
  },
  {
   "cell_type": "markdown",
   "id": "bd95c4b3",
   "metadata": {},
   "source": [
    "# Problem 2"
   ]
  },
  {
   "cell_type": "markdown",
   "id": "53a22b78",
   "metadata": {},
   "source": [
    "### Module 1: `covariance_estimators`\n",
    "\n",
    "This module will contain functions for estimating the covariance matrix of asset returns.\n",
    "\n",
    "#### Functions\n",
    "\n",
    "- `sample_covariance_matrix()`: This function takes in a matrix of asset returns and returns the sample covariance matrix.\n",
    "\n",
    "- `ledoit_wolf_shrinkage()`: This function implements the Ledoit-Wolf shrinkage estimator to estimate the covariance matrix. It takes in a matrix of asset returns, and returns the estimated covariance matrix.\n",
    "\n",
    "- `fit_generalized_t`: This function its a Generalized t-distribution to a vector of returns using maximum likelihood estimation.\n",
    "\n",
    "### Module 2: `correlation_matrix_fixes`\n",
    "\n",
    "This module will contain functions for handling non-positive definite covariance matrices.\n",
    "\n",
    "#### Functions\n",
    "\n",
    "- `nearest_correlation_matrix()`: This function takes in a non-positive definite covariance matrix and returns the nearest positive definite matrix.\n",
    "\n",
    "- `higham_algorithm()`: This function implements the Higham algorithm for finding the nearest positive definite matrix to a non-positive definite matrix.\n",
    "\n",
    "### Module 3: `simulation_methods`\n",
    "\n",
    "This module will contain functions for simulating asset returns.\n",
    "\n",
    "#### Functions\n",
    "\n",
    "- `monte_carlo_simulation()`: This function takes in a covariance matrix, a vector of mean returns, and the number of simulations, and returns simulated asset returns.\n",
    "\n",
    "### Module 4: `risk_metrics`\n",
    "\n",
    "This module will contain functions for calculating Value at Risk (VaR) and Expected Shortfall (ES).\n",
    "\n",
    "#### Functions\n",
    "\n",
    "- `historical_var()`: This function calculates the historical VaR given a vector of returns and a confidence level.\n",
    "\n",
    "- `parametric_var()`: This function calculates the parametric VaR given a vector of returns, a confidence level, and a normal distribution assumption.\n",
    "\n",
    "- `monte_carlo_var()`: This function calculates the VaR using Monte Carlo simulation given a vector of returns, a confidence level, and the number of simulations.\n",
    "\n",
    "- `historical_es()`: This function calculates the historical ES given a vector of returns and a confidence level.\n",
    "\n",
    "- `parametric_es()`: This function calculates the parametric ES given a vector of returns, a confidence level, and a normal distribution assumption.\n",
    "\n",
    "- `monte_carlo_es()`: This function calculates the ES using Monte Carlo simulation given a vector of returns, a confidence level, and the number of simulations.\n",
    "\n",
    "### Module 5: `test_suite`\n",
    "\n",
    "This module will contain tests for all the functions in the previous modules.\n",
    "\n",
    "#### Functions\n",
    "\n",
    "- `test_sample_covariance_matrix()`: This function tests the sample_covariance_matrix() function.\n",
    "\n",
    "- `test_ledoit_wolf_shrinkage()`: This function tests the ledoit_wolf_shrinkage() function.\n",
    "\n",
    "- `test_nearest_correlation_matrix()`: This function tests the nearest_correlation_matrix() function.\n",
    "\n",
    "- `test_higham_algorithm()`: This function tests the higham_algorithm() function.\n",
    "\n",
    "- `test_monte_carlo_simulation()`: This function tests the monte_carlo_simulation() function.\n",
    "\n",
    "- `test_historical_var()`: This function tests the historical_var() function.\n",
    "\n",
    "- `test_parametric_var()`: This function tests the parametric_var() function.\n",
    "\n",
    "- `test_monte_carlo_var()`: This function tests the monte_carlo_var() function.\n",
    "\n",
    "- `test_historical_es()`: This function tests the historical_es() function."
   ]
  },
  {
   "cell_type": "markdown",
   "id": "bb1af0f4",
   "metadata": {},
   "source": [
    "# Problem 3"
   ]
  },
  {
   "cell_type": "code",
   "execution_count": 7,
   "id": "01e8d28a",
   "metadata": {},
   "outputs": [],
   "source": [
    "import sys\n",
    "sys.path.append(\"/Users/zizhuo/Desktop/Duke/Fintech 545/Week05/Library\")\n",
    "import pandas as pd\n",
    "from scipy.stats import genpareto\n",
    "from covariance_estimators import *\n",
    "from correlation_matrix_fixes import *\n",
    "from simulation_methods import *\n",
    "from risk_metrics import *"
   ]
  },
  {
   "cell_type": "code",
   "execution_count": 8,
   "id": "b8fed4f6",
   "metadata": {
    "scrolled": false
   },
   "outputs": [],
   "source": [
    "# Load data\n",
    "prices = pd.read_csv('DailyPrices.csv')\n",
    "prices.drop(columns='Date', inplace=True)\n",
    "returns = prices.drop('SPY', axis=1)\n",
    "portfolio = pd.read_csv('Portfolio.csv')\n",
    "\n",
    "# Fit Generalized T model to each stock\n",
    "params = {}\n",
    "cov = {}\n",
    "for stock in returns.columns:\n",
    "    returns_i = pd.DataFrame(returns[stock])\n",
    "    params[stock] = fit_generalized_t(returns_i.values)\n",
    "    cov[stock] = np.diag(np.full(len(returns), params[stock]['sigma']**2))"
   ]
  },
  {
   "cell_type": "code",
   "execution_count": 9,
   "id": "fd01344d",
   "metadata": {
    "scrolled": false
   },
   "outputs": [
    {
     "name": "stdout",
     "output_type": "stream",
     "text": [
      "Portfolio A VaR at 0.05 confidence level is 3225.5525910795996\n",
      "Portfolio A ES at 0.05 confidence level is 154.8788325270582\n",
      "Portfolio B VaR at 0.05 confidence level is 10.289536582050753\n",
      "Portfolio B ES at 0.05 confidence level is 133.57553874437255\n",
      "Portfolio C VaR at 0.05 confidence level is 28.378548020612374\n",
      "Portfolio C ES at 0.05 confidence level is 107.5855397838204\n",
      "Total VaR at 0.05 confidence level is 154.55454736797896\n",
      "Total ES at 0.05 confidence level is 192.15617822783523\n"
     ]
    }
   ],
   "source": [
    "# Calculate portfolio VaR and ES using Monte Carlo simulation\n",
    "alpha = 0.05\n",
    "n_sim = 100000\n",
    "portfolio_var = []\n",
    "portfolio_es = []\n",
    "\n",
    "for portfolios in portfolio['Portfolio'].unique():\n",
    "    subset = portfolio[portfolio['Portfolio'] == portfolios]\n",
    "    weights = subset.set_index('Stock')['Holding'] / subset['Holding'].sum()\n",
    "    stocks = subset['Stock']\n",
    "    holdings = subset['Holding']\n",
    "    portfolio_returns = returns[stocks] * holdings.values\n",
    "    \n",
    "    par = pd.DataFrame(params)\n",
    "    para = pd.DataFrame()\n",
    "    for stock in pd.DataFrame(params).T.index:\n",
    "         if stock in stocks.values:\n",
    "            para[stock] = par[stock]\n",
    "            \n",
    "    var_i = monte_carlo_var(portfolio_returns, weights, para, alpha , n_sim)\n",
    "    es_i = monte_carlo_es(portfolio_returns, weights, para, alpha, n_sim)\n",
    "    portfolio_var.append(var_i)\n",
    "    portfolio_es.append(es_i)\n",
    "\n",
    "\n",
    "# Calculate total VaR and ES using Monte Carlo simulation\n",
    "total_weights = portfolio.set_index('Stock')['Holding'] / portfolio['Holding'].sum()\n",
    "stocks = portfolio['Stock']\n",
    "portfolio_returns = returns[stocks] * portfolio['Holding'].values\n",
    "total_var = monte_carlo_var(portfolio_returns, total_weights, params, alpha, n_sim)\n",
    "params = pd.DataFrame(params).T\n",
    "total_es = monte_carlo_es(portfolio_returns.values, total_weights, params.T, alpha, n_sim)\n",
    "\n",
    "# Print results\n",
    "print(f\"Portfolio A VaR at {alpha} confidence level is {portfolio_var[0]:}\")\n",
    "print(f\"Portfolio A ES at {alpha} confidence level is {portfolio_es[0]:}\")\n",
    "print(f\"Portfolio B VaR at {alpha} confidence level is {portfolio_var[1]:}\")\n",
    "print(f\"Portfolio B ES at {alpha} confidence level is {portfolio_es[1]:}\")\n",
    "print(f\"Portfolio C VaR at {alpha} confidence level is {portfolio_var[2]:}\")\n",
    "print(f\"Portfolio C ES at {alpha} confidence level is {portfolio_es[2]:}\")\n",
    "print(f\"Total VaR at {alpha} confidence level is {total_var:}\")\n",
    "print(f\"Total ES at {alpha} confidence level is {total_es:}\")\n"
   ]
  },
  {
   "cell_type": "code",
   "execution_count": null,
   "id": "ab36eb08",
   "metadata": {},
   "outputs": [],
   "source": []
  }
 ],
 "metadata": {
  "kernelspec": {
   "display_name": "Python 3 (ipykernel)",
   "language": "python",
   "name": "python3"
  },
  "language_info": {
   "codemirror_mode": {
    "name": "ipython",
    "version": 3
   },
   "file_extension": ".py",
   "mimetype": "text/x-python",
   "name": "python",
   "nbconvert_exporter": "python",
   "pygments_lexer": "ipython3",
   "version": "3.9.7"
  }
 },
 "nbformat": 4,
 "nbformat_minor": 5
}
